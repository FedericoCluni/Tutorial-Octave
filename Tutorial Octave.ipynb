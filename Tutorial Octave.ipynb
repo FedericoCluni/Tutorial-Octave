{
 "cells": [
  {
   "cell_type": "markdown",
   "metadata": {},
   "source": [
    "# Introduzione a Octave\n",
    "\n",
    "##### a cura di Federico Cluni\n",
    "##### aggiornato al 18 ottobre 2019\n",
    "\n",
    "## Vista d'insieme"
   ]
  },
  {
   "cell_type": "markdown",
   "metadata": {},
   "source": [
    "![ciao](octave.png)"
   ]
  },
  {
   "cell_type": "markdown",
   "metadata": {},
   "source": [
    "- La *finestra dei comandi* è dove si digitano i comandi, ed è dove principalmente lavoreremo;\n",
    "- Lo *spazio di lavoro* contiene le variabili;\n",
    "- La *cartella di lavoro* è la cartella del nostro elaboratore dove stiamo lavorando al momento."
   ]
  },
  {
   "cell_type": "markdown",
   "metadata": {},
   "source": [
    "## Operazioni base"
   ]
  },
  {
   "cell_type": "markdown",
   "metadata": {},
   "source": [
    "Le normali operazioni di calcolo si compiono con gli operatori **+**, **-**, *****, **/**"
   ]
  },
  {
   "cell_type": "code",
   "execution_count": 1,
   "metadata": {},
   "outputs": [
    {
     "name": "stdout",
     "output_type": "stream",
     "text": [
      "ans =  5\n",
      "ans =  2\n",
      "ans =  8\n",
      "ans =  1.5000\n"
     ]
    }
   ],
   "source": [
    "2+3\n",
    "5-3\n",
    "2*4\n",
    "3/2"
   ]
  },
  {
   "cell_type": "markdown",
   "metadata": {},
   "source": [
    "L'elevazione a potenza è con il simbolo **^**"
   ]
  },
  {
   "cell_type": "code",
   "execution_count": 2,
   "metadata": {},
   "outputs": [
    {
     "name": "stdout",
     "output_type": "stream",
     "text": [
      "ans =  8\n"
     ]
    }
   ],
   "source": [
    "2^3"
   ]
  },
  {
   "cell_type": "markdown",
   "metadata": {},
   "source": [
    "la priorità delle operazioni è: ^, * e /, + e -\n",
    "Per alterare l'ordine si usano le parentesi **()**"
   ]
  },
  {
   "cell_type": "code",
   "execution_count": 3,
   "metadata": {},
   "outputs": [
    {
     "name": "stdout",
     "output_type": "stream",
     "text": [
      "ans =  50\n",
      "ans =  400\n"
     ]
    }
   ],
   "source": [
    "2+3*4^2\n",
    "((2+3)*4)^2"
   ]
  },
  {
   "cell_type": "markdown",
   "metadata": {},
   "source": [
    "## Definizione di varibili"
   ]
  },
  {
   "cell_type": "markdown",
   "metadata": {},
   "source": [
    "Una variabile è definita assegnandoni un nome ed attribuendogli un valore\n",
    "\n",
    "*nome variabile* = *valore*"
   ]
  },
  {
   "cell_type": "code",
   "execution_count": 4,
   "metadata": {},
   "outputs": [
    {
     "name": "stdout",
     "output_type": "stream",
     "text": [
      "a =  3\n"
     ]
    }
   ],
   "source": [
    "a = 3"
   ]
  },
  {
   "cell_type": "markdown",
   "metadata": {},
   "source": [
    "Si noti come il segno **=** in questo contesto è un operatore di assegnazione, quindi non viene utilizzato nell'usuale significato matematico.\n",
    "\n",
    "Per vedere il valore di una variabile digitarne il nome"
   ]
  },
  {
   "cell_type": "code",
   "execution_count": 5,
   "metadata": {},
   "outputs": [
    {
     "name": "stdout",
     "output_type": "stream",
     "text": [
      "a =  3\n"
     ]
    }
   ],
   "source": [
    "a"
   ]
  },
  {
   "cell_type": "markdown",
   "metadata": {},
   "source": [
    "è possibile definire anche delle *stringhe*, ossia delle sequenze di caratteri"
   ]
  },
  {
   "cell_type": "code",
   "execution_count": 6,
   "metadata": {},
   "outputs": [
    {
     "name": "stdout",
     "output_type": "stream",
     "text": [
      "b = ciao belli!\n"
     ]
    }
   ],
   "source": [
    "b = 'ciao belli!'"
   ]
  },
  {
   "cell_type": "markdown",
   "metadata": {},
   "source": [
    "Il nome dei una variabile *deve* iniziare con una lettera, proseguire con letteri o numeri o _.\n",
    "\n",
    "La differenza fra maiuscole e minuscole conta!"
   ]
  },
  {
   "cell_type": "code",
   "execution_count": 7,
   "metadata": {},
   "outputs": [
    {
     "name": "stdout",
     "output_type": "stream",
     "text": [
      "a =  3\n",
      "A =  5\n"
     ]
    }
   ],
   "source": [
    "a = 3\n",
    "A = 5"
   ]
  },
  {
   "cell_type": "markdown",
   "metadata": {},
   "source": [
    "Non si possono usare come nomi quelli di *parole chiave* usate dal programma."
   ]
  },
  {
   "cell_type": "raw",
   "metadata": {},
   "source": [
    "break ; case ; catch ; classdef ; continue ; do ; else ; elseif ; end ; end_try_catch ; end_unwind_protect ; endclassdef ; endenumeration ; endevents ; endfor ; endfunction ; endif ; endmethods ; endparfor ; endproperties ; endswitch ; endwhile ; enumeration ; events ; for ; function ; global ; if ; methods ; otherwise ; parfor ; persistent ; properties ; return ; switch ; try ; until ; unwind_protect ; unwind_protect_cleanup ; while "
   ]
  },
  {
   "cell_type": "markdown",
   "metadata": {},
   "source": [
    "## Funzioni e comandi predefiniti"
   ]
  },
  {
   "cell_type": "markdown",
   "metadata": {},
   "source": [
    "In Octave ci sono funzioni predefinite"
   ]
  },
  {
   "cell_type": "code",
   "execution_count": 8,
   "metadata": {},
   "outputs": [
    {
     "name": "stdout",
     "output_type": "stream",
     "text": [
      "ans =  0.0015927\n",
      "ans = -1\n",
      "ans =  7.3891\n",
      "ans =  1.0986\n"
     ]
    }
   ],
   "source": [
    "sin(3.14)\n",
    "cos(pi)\n",
    "exp(2)\n",
    "log(3)"
   ]
  },
  {
   "cell_type": "markdown",
   "metadata": {},
   "source": [
    "Si noti come pi è una variabile predefinita, ma che può essere sovrascritta, così come è possibile utilizzare come nome delle variabili il nome delle funzioni predefinite!"
   ]
  },
  {
   "cell_type": "markdown",
   "metadata": {},
   "source": [
    "Per leggere la documentazione di una funzione, si utilizzi **help**"
   ]
  },
  {
   "cell_type": "code",
   "execution_count": 9,
   "metadata": {},
   "outputs": [
    {
     "name": "stdout",
     "output_type": "stream",
     "text": [
      "'log' is a built-in function from the file libinterp/corefcn/mappers.cc\n",
      "\n",
      " -- log (X)\r\n",
      "     Compute the natural logarithm, 'ln (X)', for each element of X.\r\n",
      "\r\n",
      "     To compute the matrix logarithm, see *note Linear Algebra::.\r\n",
      "\r\n",
      "     See also: exp, log1p, log2, log10, logspace.\r\n",
      "\r\n",
      "\n",
      "\n",
      "Additional help for built-in functions and operators is\n",
      "available in the online version of the manual.  Use the command\n",
      "'doc <topic>' to search the manual index.\n",
      "\n",
      "Help and information about Octave is also available on the WWW\n",
      "at https://www.octave.org and via the help@octave.org\n",
      "mailing list.\n"
     ]
    }
   ],
   "source": [
    "help log"
   ]
  },
  {
   "cell_type": "markdown",
   "metadata": {},
   "source": [
    "Oltre alle funzioni, ci sono dei comandi predefiniti. Ad esempio **who** serve a visualizzare le variabili definite fin qui"
   ]
  },
  {
   "cell_type": "code",
   "execution_count": 10,
   "metadata": {},
   "outputs": [
    {
     "name": "stdout",
     "output_type": "stream",
     "text": [
      "Variables in the current scope:\n",
      "\n",
      "A    a    ans  b\n",
      "\n"
     ]
    }
   ],
   "source": [
    "who"
   ]
  },
  {
   "cell_type": "markdown",
   "metadata": {},
   "source": [
    "Il comando **whos** dà informazioni aggiuntive"
   ]
  },
  {
   "cell_type": "code",
   "execution_count": 11,
   "metadata": {},
   "outputs": [
    {
     "name": "stdout",
     "output_type": "stream",
     "text": [
      "Variables in the current scope:\n",
      "\n",
      "   Attr Name        Size                     Bytes  Class\n",
      "   ==== ====        ====                     =====  ===== \n",
      "        A           1x1                          8  double\n",
      "        a           1x1                          8  double\n",
      "        ans         1x1                          8  double\n",
      "        b           1x11                        11  char\n",
      "\n",
      "Total is 14 elements using 35 bytes\n",
      "\n"
     ]
    }
   ],
   "source": [
    "whos"
   ]
  },
  {
   "cell_type": "markdown",
   "metadata": {},
   "source": [
    "Si noti come il programma crei una variabile **ans** dove immagazzinare il risultato di operazioni non direttamente assegnato ad una variabile!"
   ]
  },
  {
   "cell_type": "markdown",
   "metadata": {},
   "source": [
    "Lle informazioni sulle variabili sono visibili anche nella finestra *Workspace*"
   ]
  },
  {
   "cell_type": "markdown",
   "metadata": {},
   "source": [
    "![](workspace.png)"
   ]
  },
  {
   "cell_type": "markdown",
   "metadata": {},
   "source": [
    "Si noti che il tipo di variabile per i numeri è *double*, ovvero virgola mobile a doppia precisione, che richiede 8 byte (64 bit) per la memorizzazione.\n",
    "\n",
    "In tale formato, la precisione è di 15-17 cifre decimali (si veda [Wikipedia](https://en.wikipedia.org/wiki/Double-precision_floating-point_format)).\n",
    "\n",
    "Tuttavia a schermo si vede una rappresentazione semplificata del numero."
   ]
  },
  {
   "cell_type": "code",
   "execution_count": 12,
   "metadata": {},
   "outputs": [
    {
     "name": "stdout",
     "output_type": "stream",
     "text": [
      "a =  0.66667\n"
     ]
    }
   ],
   "source": [
    "a = 2/3"
   ]
  },
  {
   "cell_type": "markdown",
   "metadata": {},
   "source": [
    "Per cambiare la visualizzazione di numeri si possono usare i comandi **format long** e **format short**"
   ]
  },
  {
   "cell_type": "code",
   "execution_count": 13,
   "metadata": {},
   "outputs": [
    {
     "name": "stdout",
     "output_type": "stream",
     "text": [
      "a =    6.666666666666666e-01\n"
     ]
    }
   ],
   "source": [
    "format long\n",
    "a"
   ]
  },
  {
   "cell_type": "code",
   "execution_count": 14,
   "metadata": {},
   "outputs": [
    {
     "name": "stdout",
     "output_type": "stream",
     "text": [
      "a =  0.66667\n"
     ]
    }
   ],
   "source": [
    "format short\n",
    "a"
   ]
  },
  {
   "cell_type": "markdown",
   "metadata": {},
   "source": [
    "Due comandi molto utili sono **clc**, che cancella il contenuto della finestra dei comandi (ma senza cancellare le variabili) e **clear** che cancella tutte le variabili"
   ]
  },
  {
   "cell_type": "code",
   "execution_count": 15,
   "metadata": {},
   "outputs": [],
   "source": [
    "clear"
   ]
  },
  {
   "cell_type": "code",
   "execution_count": 16,
   "metadata": {},
   "outputs": [
    {
     "name": "stdout",
     "output_type": "stream",
     "text": [
      "error: 'a' undefined near line 1 column 1\n"
     ]
    }
   ],
   "source": [
    "a"
   ]
  },
  {
   "cell_type": "markdown",
   "metadata": {},
   "source": [
    "Un altro comando è quello che genera la lista delle parole chiave, vista is precedenza: **iskeyword**."
   ]
  },
  {
   "cell_type": "markdown",
   "metadata": {},
   "source": [
    "Per digitare di nuovo i comandi, si possono usare i tasti freccia &uarr; e &darr;\n",
    "\n",
    "Inoltre, digitando l'inizio di un comando e poi &uarr;, si ripercorrono in ordine temporale inverso (dal più recente al più vecchio) i comandi che iniziano in tal modo."
   ]
  },
  {
   "cell_type": "markdown",
   "metadata": {},
   "source": [
    "## Matrici e vettori"
   ]
  },
  {
   "cell_type": "markdown",
   "metadata": {},
   "source": [
    "Octave, come Matlab di cui nasce come clone, gestisce in maniera semplice le matrici"
   ]
  },
  {
   "cell_type": "code",
   "execution_count": 17,
   "metadata": {},
   "outputs": [
    {
     "name": "stdout",
     "output_type": "stream",
     "text": [
      "A =\n",
      "\n",
      "   1   2\n",
      "   3   4\n",
      "   5   6\n",
      "\n"
     ]
    }
   ],
   "source": [
    "A = [1 2\n",
    "3 4\n",
    "5 6]"
   ]
  },
  {
   "cell_type": "markdown",
   "metadata": {},
   "source": [
    "La matrice si può definire anche separando con una virgola gli elementi della riga e con un punto e virgole le righe"
   ]
  },
  {
   "cell_type": "code",
   "execution_count": 18,
   "metadata": {},
   "outputs": [
    {
     "name": "stdout",
     "output_type": "stream",
     "text": [
      "B =\n",
      "\n",
      "   1   2   3\n",
      "   4   5   6\n",
      "\n"
     ]
    }
   ],
   "source": [
    "B = [1,2,3;4,5,6]"
   ]
  },
  {
   "cell_type": "markdown",
   "metadata": {},
   "source": [
    "Si può anche utilizzare una notazione mista"
   ]
  },
  {
   "cell_type": "code",
   "execution_count": 19,
   "metadata": {},
   "outputs": [
    {
     "name": "stdout",
     "output_type": "stream",
     "text": [
      "C =\n",
      "\n",
      "   10   20\n",
      "   30   40\n",
      "   50   60\n",
      "\n"
     ]
    }
   ],
   "source": [
    "C = [10,20\n",
    "30 40;50 60 ]"
   ]
  },
  {
   "cell_type": "markdown",
   "metadata": {},
   "source": [
    "Le principali operazioni su matrici sono: prodotto, somma, trasposizione."
   ]
  },
  {
   "cell_type": "code",
   "execution_count": 20,
   "metadata": {},
   "outputs": [
    {
     "name": "stdout",
     "output_type": "stream",
     "text": [
      "ans =\n",
      "\n",
      "   11   22\n",
      "   33   44\n",
      "   55   66\n",
      "\n",
      "ans =\n",
      "\n",
      "    9   12   15\n",
      "   19   26   33\n",
      "   29   40   51\n",
      "\n",
      "ans =\n",
      "\n",
      "   1   3   5\n",
      "   2   4   6\n",
      "\n"
     ]
    }
   ],
   "source": [
    "A+C\n",
    "A*B\n",
    "A'"
   ]
  },
  {
   "cell_type": "markdown",
   "metadata": {},
   "source": [
    "Si noti come nella somma e nel prodotto le matrici devono avere dimensioni compatibili"
   ]
  },
  {
   "cell_type": "code",
   "execution_count": 21,
   "metadata": {},
   "outputs": [
    {
     "name": "stdout",
     "output_type": "stream",
     "text": [
      "ans =\n",
      "\n",
      "    9   12   15\n",
      "   19   26   33\n",
      "   29   40   51\n",
      "\n",
      "error: operator *: nonconformant arguments (op1 is 3x2, op2 is 3x2)\n"
     ]
    }
   ],
   "source": [
    "A*B\n",
    "A*C"
   ]
  },
  {
   "cell_type": "markdown",
   "metadata": {},
   "source": [
    "Si noti inoltre come il prodotto non è commutativo!"
   ]
  },
  {
   "cell_type": "markdown",
   "metadata": {},
   "source": [
    "Inoltre è possibile effettuare operazioni a livello di singoli elementi anteponendo il simbolo **.**"
   ]
  },
  {
   "cell_type": "code",
   "execution_count": 22,
   "metadata": {},
   "outputs": [
    {
     "name": "stdout",
     "output_type": "stream",
     "text": [
      "ans =\n",
      "\n",
      "    10    40\n",
      "    90   160\n",
      "   250   360\n",
      "\n"
     ]
    }
   ],
   "source": [
    "A.*C"
   ]
  },
  {
   "cell_type": "markdown",
   "metadata": {},
   "source": [
    "I vettori sono particolari matrici **n&times;1** (vettori riga) e **1&#215;n** (vettori colonna)"
   ]
  },
  {
   "cell_type": "markdown",
   "metadata": {},
   "source": [
    "Ci sono dei comandi specifici per generare rapidamente vettori..."
   ]
  },
  {
   "cell_type": "code",
   "execution_count": 23,
   "metadata": {},
   "outputs": [
    {
     "name": "stdout",
     "output_type": "stream",
     "text": [
      "v1 =\n",
      "\n",
      "   1   3   5   7   9\n",
      "\n",
      "v2 =\n",
      "\n",
      "    1    4    7   10\n",
      "\n"
     ]
    }
   ],
   "source": [
    "v1 = 1:2:10\n",
    "v2 = linspace(1,10,4)"
   ]
  },
  {
   "cell_type": "markdown",
   "metadata": {},
   "source": [
    "... e matrici"
   ]
  },
  {
   "cell_type": "code",
   "execution_count": 24,
   "metadata": {},
   "outputs": [
    {
     "name": "stdout",
     "output_type": "stream",
     "text": [
      "A =\n",
      "\n",
      "Diagonal Matrix\n",
      "\n",
      "   1   0   0\n",
      "   0   1   0\n",
      "   0   0   1\n",
      "\n",
      "B =\n",
      "\n",
      "   0   0\n",
      "   0   0\n",
      "\n",
      "C =\n",
      "\n",
      "   1   1   1   1\n",
      "   1   1   1   1\n",
      "   1   1   1   1\n",
      "   1   1   1   1\n",
      "\n"
     ]
    }
   ],
   "source": [
    "A = eye(3)\n",
    "B = zeros(2)\n",
    "C = ones(4)"
   ]
  },
  {
   "cell_type": "markdown",
   "metadata": {},
   "source": [
    "## Risoluzione di sistemi lineari"
   ]
  },
  {
   "cell_type": "markdown",
   "metadata": {},
   "source": [
    "Esiste un comando speciale per la risoluzione dei sistemi di equazioni lineari, ad esempio:\n",
    "$$\\begin{cases}\n",
    "3x+2y=1\\\\\n",
    "x-4y=-3\n",
    "\\end{cases}$$"
   ]
  },
  {
   "cell_type": "markdown",
   "metadata": {},
   "source": [
    "Si definiscono la matrice dei coefficienti e dei termini noti"
   ]
  },
  {
   "cell_type": "code",
   "execution_count": 25,
   "metadata": {},
   "outputs": [
    {
     "name": "stdout",
     "output_type": "stream",
     "text": [
      "A =\n",
      "\n",
      "   3   2\n",
      "   1  -4\n",
      "\n",
      "b =\n",
      "\n",
      "   1\n",
      "   3\n",
      "\n"
     ]
    }
   ],
   "source": [
    "A = [3 2\n",
    "1 -4]\n",
    "b = [1;3]"
   ]
  },
  {
   "cell_type": "markdown",
   "metadata": {},
   "source": [
    "La soluzione si ottiene con l'operatore **\\**"
   ]
  },
  {
   "cell_type": "code",
   "execution_count": 26,
   "metadata": {},
   "outputs": [
    {
     "name": "stdout",
     "output_type": "stream",
     "text": [
      "xy =\n",
      "\n",
      "   0.71429\n",
      "  -0.57143\n",
      "\n"
     ]
    }
   ],
   "source": [
    "xy = A\\b"
   ]
  },
  {
   "cell_type": "markdown",
   "metadata": {},
   "source": [
    "Avremmo anche potuto ricorrere all'inversa della matrice, ma questo in genere non conviene computazionalmente"
   ]
  },
  {
   "cell_type": "code",
   "execution_count": 27,
   "metadata": {},
   "outputs": [
    {
     "name": "stdout",
     "output_type": "stream",
     "text": [
      "xy =\n",
      "\n",
      "   0.71429\n",
      "  -0.57143\n",
      "\n"
     ]
    }
   ],
   "source": [
    "xy = inv(A)*b"
   ]
  },
  {
   "cell_type": "markdown",
   "metadata": {},
   "source": [
    "## Grafici"
   ]
  },
  {
   "cell_type": "markdown",
   "metadata": {},
   "source": [
    "Un altro dei vantaggi di Ocatve/Matlab è la semplicità nel disegnare grafici."
   ]
  },
  {
   "cell_type": "code",
   "execution_count": 28,
   "metadata": {},
   "outputs": [
    {
     "data": {
      "image/png": "[encoded data removed]",
      "text/plain": [
       "<IPython.core.display.Image object>"
      ]
     },
     "metadata": {},
     "output_type": "display_data"
    }
   ],
   "source": [
    "x = linspace(0,2*pi,100);\n",
    "y = sin(x);\n",
    "plot(x,y)\n",
    "xlabel('x')\n",
    "ylabel('sin(x)')\n",
    "title('Grafico del seno')"
   ]
  },
  {
   "cell_type": "markdown",
   "metadata": {},
   "source": [
    "Si noti:\n",
    "- le funzioni *predefinite* operano anche sui vettori, restituendo un vettore i cui elementi sono il risultato dell'applicazione della funzione agli elementi del vettore di input;\n",
    "- è possibile annotare il grafico;\n",
    "- al termine di alcuni comandi c'è un **;**, questo evita che l'output del comando venga riportato a schermo!"
   ]
  },
  {
   "cell_type": "code",
   "execution_count": 29,
   "metadata": {},
   "outputs": [
    {
     "data": {
      "image/png": "[encoded data removed]",
      "text/plain": [
       "<IPython.core.display.Image object>"
      ]
     },
     "metadata": {},
     "output_type": "display_data"
    }
   ],
   "source": [
    "x = linspace(0,2*pi,100);\n",
    "y1 = sin(x);\n",
    "plot(x,y1)\n",
    "y2 = cos(x);\n",
    "plot(x,y2)\n",
    "xlabel('x')\n",
    "ylabel('sin(x), cos(x)')\n",
    "title('Grafico delle funzioni trigonometriche')"
   ]
  },
  {
   "cell_type": "markdown",
   "metadata": {},
   "source": [
    "Ogni comando **plot** cancella la figura e sovrascrive di nuovo.\n",
    "\n",
    "Per evitarlo utilizzare il comando **hold on**"
   ]
  },
  {
   "cell_type": "code",
   "execution_count": 30,
   "metadata": {},
   "outputs": [
    {
     "data": {
      "image/png": "[encoded data removed]",
      "text/plain": [
       "<IPython.core.display.Image object>"
      ]
     },
     "metadata": {},
     "output_type": "display_data"
    }
   ],
   "source": [
    "x = linspace(0,2*pi,100);\n",
    "y1 = sin(x);\n",
    "plot(x,y1)\n",
    "y2 = cos(x);\n",
    "hold on\n",
    "plot(x,y2)\n",
    "xlabel('x')\n",
    "ylabel('sin(x), cos(x)')\n",
    "legend('sin(x)','cos(x)')\n",
    "grid on\n",
    "title('Grafico delle funzioni trigonometriche')"
   ]
  },
  {
   "cell_type": "markdown",
   "metadata": {},
   "source": [
    "Si noti l'uso del comando **grid on** per disegnare la griglia di riferimento.\n",
    "\n",
    "Le proprietà delle curve si possono modificare tramite una stringa di tre elementi (o meno) per definire:\n",
    "- il colore della curva;\n",
    "- il simbolo per il marcatore dei punti;\n",
    "- il tratteggio della linea."
   ]
  },
  {
   "cell_type": "code",
   "execution_count": 31,
   "metadata": {},
   "outputs": [
    {
     "data": {
      "image/png": "[encoded data removed]",
      "text/plain": [
       "<IPython.core.display.Image object>"
      ]
     },
     "metadata": {},
     "output_type": "display_data"
    }
   ],
   "source": [
    "x = linspace(0,2*pi,100);\n",
    "y1 = sin(x);\n",
    "plot(x,y1,'sm-')\n",
    "hold on\n",
    "y2 = cos(x);\n",
    "plot(x,y2,'og--')\n",
    "xlabel('x')\n",
    "ylabel('sin(x), cos(x)')\n",
    "title('Grafico delle funzioni trigonometriche')"
   ]
  },
  {
   "cell_type": "code",
   "execution_count": 32,
   "metadata": {},
   "outputs": [
    {
     "name": "stdout",
     "output_type": "stream",
     "text": [
      "'plot' is a function from the file C:\\Octave\\Octave-5.1.0.0\\mingw64\\share\\octave\\5.1.0\\m\\plot\\draw\\plot.m\n",
      "\n",
      " -- plot (Y)\r\n",
      " -- plot (X, Y)\r\n",
      " -- plot (X, Y, FMT)\r\n",
      " -- plot (..., PROPERTY, VALUE, ...)\r\n",
      " -- plot (X1, Y1, ..., XN, YN)\r\n",
      " -- plot (HAX, ...)\r\n",
      " -- H = plot (...)\r\n",
      "     Produce 2-D plots.\r\n",
      "\r\n",
      "     Many different combinations of arguments are possible.  The\r\n",
      "     simplest form is\r\n",
      "\r\n",
      "          plot (Y)\r\n",
      "\r\n",
      "     where the argument is taken as the set of Y coordinates and the X\r\n",
      "     coordinates are taken to be the range '1:numel (Y)'.\r\n",
      "\r\n",
      "     If more than one argument is given, they are interpreted as\r\n",
      "\r\n",
      "          plot (Y, PROPERTY, VALUE, ...)\r\n",
      "\r\n",
      "     or\r\n",
      "\r\n",
      "          plot (X, Y, PROPERTY, VALUE, ...)\r\n",
      "\r\n",
      "     or\r\n",
      "\r\n",
      "          plot (X, Y, FMT, ...)\r\n",
      "\r\n",
      "     and so on.  Any number of argument sets may appear.  The X and Y\r\n",
      "     values are interpreted as follows:\r\n",
      "\r\n",
      "        * If a single data argument is supplied, it is taken as the set\r\n",
      "          of Y coordinates and the X coordinates are taken to be the\r\n",
      "          indices of the elements, starting with 1.\r\n",
      "\r\n",
      "        * If X and Y are scalars, a single point is plotted.\r\n",
      "\r\n",
      "        * 'squeeze()' is applied to arguments with more than two\r\n",
      "          dimensions, but no more than two singleton dimensions.\r\n",
      "\r\n",
      "        * If both arguments are vectors, the elements of Y are plotted\r\n",
      "          versus the elements of X.\r\n",
      "\r\n",
      "        * If X is a vector and Y is a matrix, then the columns (or rows)\r\n",
      "          of Y are plotted versus X.  (using whichever combination\r\n",
      "          matches, with columns tried first.)\r\n",
      "\r\n",
      "        * If the X is a matrix and Y is a vector, Y is plotted versus\r\n",
      "          the columns (or rows) of X.  (using whichever combination\r\n",
      "          matches, with columns tried first.)\r\n",
      "\r\n",
      "        * If both arguments are matrices, the columns of Y are plotted\r\n",
      "          versus the columns of X.  In this case, both matrices must\r\n",
      "          have the same number of rows and columns and no attempt is\r\n",
      "          made to transpose the arguments to make the number of rows\r\n",
      "          match.\r\n",
      "\r\n",
      "     Multiple property-value pairs may be specified, but they must\r\n",
      "     appear in pairs.  These arguments are applied to the line objects\r\n",
      "     drawn by 'plot'.  Useful properties to modify are \"linestyle\",\r\n",
      "     \"linewidth\", \"color\", \"marker\", \"markersize\", \"markeredgecolor\",\r\n",
      "     \"markerfacecolor\".  *Note Line Properties::.\r\n",
      "\r\n",
      "     The FMT format argument can also be used to control the plot style.\r\n",
      "     It is a string composed of four optional parts:\r\n",
      "     \"<linestyle><marker><color><;displayname;>\".  When a marker is\r\n",
      "     specified, but no linestyle, only the markers are plotted.\r\n",
      "     Similarly, if a linestyle is specified, but no marker, then only\r\n",
      "     lines are drawn.  If both are specified then lines and markers will\r\n",
      "     be plotted.  If no FMT and no PROPERTY/VALUE pairs are given, then\r\n",
      "     the default plot style is solid lines with no markers and the color\r\n",
      "     determined by the \"colororder\" property of the current axes.\r\n",
      "\r\n",
      "     Format arguments:\r\n",
      "\r\n",
      "     linestyle\r\n",
      "\r\n",
      "          '-'  Use solid lines (default).\r\n",
      "          '--' Use dashed lines.\r\n",
      "          ':'  Use dotted lines.\r\n",
      "          '-.' Use dash-dotted lines.\r\n",
      "\r\n",
      "     marker\r\n",
      "\r\n",
      "          '+'  crosshair\r\n",
      "          'o'  circle\r\n",
      "          '*'  star\r\n",
      "          '.'  point\r\n",
      "          'x'  cross\r\n",
      "          's'  square\r\n",
      "          'd'  diamond\r\n",
      "          '^'  upward-facing triangle\r\n",
      "          'v'  downward-facing triangle\r\n",
      "          '>'  right-facing triangle\r\n",
      "          '<'  left-facing triangle\r\n",
      "          'p'  pentagram\r\n",
      "          'h'  hexagram\r\n",
      "\r\n",
      "     color\r\n",
      "\r\n",
      "          'k'  blacK\r\n",
      "          'r'  Red\r\n",
      "          'g'  Green\r\n",
      "          'b'  Blue\r\n",
      "          'y'  Yellow\r\n",
      "          'm'  Magenta\r\n",
      "          'c'  Cyan\r\n",
      "          'w'  White\r\n",
      "\r\n",
      "     \";displayname;\"\r\n",
      "          Here \"displayname\" is the label to use for the plot legend.\r\n",
      "\r\n",
      "     The FMT argument may also be used to assign legend labels.  To do\r\n",
      "     so, include the desired label between semicolons after the\r\n",
      "     formatting sequence described above, e.g., \"+b;Key Title;\".  Note\r\n",
      "     that the last semicolon is required and Octave will generate an\r\n",
      "     error if it is left out.\r\n",
      "\r\n",
      "     Here are some plot examples:\r\n",
      "\r\n",
      "          plot (x, y, \"or\", x, y2, x, y3, \"m\", x, y4, \"+\")\r\n",
      "\r\n",
      "     This command will plot 'y' with red circles, 'y2' with solid lines,\r\n",
      "     'y3' with solid magenta lines, and 'y4' with points displayed as\r\n",
      "     '+'.\r\n",
      "\r\n",
      "          plot (b, \"*\", \"markersize\", 10)\r\n",
      "\r\n",
      "     This command will plot the data in the variable 'b', with points\r\n",
      "     displayed as '*' and a marker size of 10.\r\n",
      "\r\n",
      "          t = 0:0.1:6.3;\r\n",
      "          plot (t, cos(t), \"-;cos(t);\", t, sin(t), \"-b;sin(t);\");\r\n",
      "\r\n",
      "     This will plot the cosine and sine functions and label them\r\n",
      "     accordingly in the legend.\r\n",
      "\r\n",
      "     If the first argument HAX is an axes handle, then plot into this\r\n",
      "     axes, rather than the current axes returned by 'gca'.\r\n",
      "\r\n",
      "     The optional return value H is a vector of graphics handles to the\r\n",
      "     created line objects.\r\n",
      "\r\n",
      "     To save a plot, in one of several image formats such as PostScript\r\n",
      "     or PNG, use the 'print' command.\r\n",
      "\r\n",
      "     See also: axis, box, grid, hold, legend, title, xlabel, ylabel,\r\n",
      "     xlim, ylim, ezplot, errorbar, fplot, line, plot3, polar, loglog,\r\n",
      "     semilogx, semilogy, subplot.\r\n",
      "\r\n",
      "\n",
      "\n",
      "Additional help for built-in functions and operators is\n",
      "available in the online version of the manual.  Use the command\n",
      "'doc <topic>' to search the manual index.\n",
      "\n",
      "Help and information about Octave is also available on the WWW\n",
      "at https://www.octave.org and via the help@octave.org\n",
      "mailing list.\n"
     ]
    }
   ],
   "source": [
    "help plot"
   ]
  }
 ],
 "metadata": {
  "kernelspec": {
   "display_name": "Octave",
   "language": "octave",
   "name": "octave"
  },
  "language_info": {
   "file_extension": ".m",
   "help_links": [
    {
     "text": "GNU Octave",
     "url": "https://www.gnu.org/software/octave/support.html"
    },
    {
     "text": "Octave Kernel",
     "url": "https://github.com/Calysto/octave_kernel"
    },
    {
     "text": "MetaKernel Magics",
     "url": "https://metakernel.readthedocs.io/en/latest/source/README.html"
    }
   ],
   "mimetype": "text/x-octave",
   "name": "octave",
   "version": "5.1.0"
  }
 },
 "nbformat": 4,
 "nbformat_minor": 2
}
